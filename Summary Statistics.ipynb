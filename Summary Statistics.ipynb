{
  "nbformat": 4,
  "nbformat_minor": 0,
  "metadata": {
    "colab": {
      "provenance": []
    },
    "kernelspec": {
      "name": "python3",
      "display_name": "Python 3"
    },
    "language_info": {
      "name": "python"
    }
  },
  "cells": [
    {
      "cell_type": "markdown",
      "source": [
        "Import Libraries"
      ],
      "metadata": {
        "id": "PzIVuBif9KFX"
      }
    },
    {
      "cell_type": "code",
      "execution_count": 1,
      "metadata": {
        "id": "6-nyDNFo85aL"
      },
      "outputs": [],
      "source": [
        "import pandas as pd"
      ]
    },
    {
      "cell_type": "markdown",
      "source": [
        "Load Dataset"
      ],
      "metadata": {
        "id": "m310RCYB9U6d"
      }
    },
    {
      "cell_type": "code",
      "source": [
        "df = pd.read_csv(\"gender_submission.csv\")"
      ],
      "metadata": {
        "id": "9eSSDHEL9M4U"
      },
      "execution_count": 2,
      "outputs": []
    },
    {
      "cell_type": "markdown",
      "source": [
        "View Dataset"
      ],
      "metadata": {
        "id": "fig60EFN9af2"
      }
    },
    {
      "cell_type": "code",
      "source": [
        "print(df.head())"
      ],
      "metadata": {
        "colab": {
          "base_uri": "https://localhost:8080/"
        },
        "id": "eXPgFqKK9XF7",
        "outputId": "f121e84a-28cf-4339-ddb6-b6b7b44db793"
      },
      "execution_count": 3,
      "outputs": [
        {
          "output_type": "stream",
          "name": "stdout",
          "text": [
            "   PassengerId  Survived\n",
            "0          892         0\n",
            "1          893         1\n",
            "2          894         0\n",
            "3          895         0\n",
            "4          896         1\n"
          ]
        }
      ]
    },
    {
      "cell_type": "markdown",
      "source": [
        "Calculate Summary Statistics"
      ],
      "metadata": {
        "id": "M3hGqOfO9pwq"
      }
    },
    {
      "cell_type": "code",
      "source": [
        "# Mean\n",
        "mean_values = df.mean()\n",
        "\n",
        "# Median\n",
        "median_values = df.median()\n",
        "\n",
        "# Mode\n",
        "mode_values = df.mode().iloc[0]  # Picks the first mode in case of multiple\n",
        "\n",
        "# Standard Deviation\n",
        "std_values = df.std()\n",
        "\n",
        "# Display results\n",
        "print(\"Mean:\\n\", mean_values)\n",
        "print(\"\\nMedian:\\n\", median_values)\n",
        "print(\"\\nMode:\\n\", mode_values)\n",
        "print(\"\\nStandard Deviation:\\n\", std_values)"
      ],
      "metadata": {
        "colab": {
          "base_uri": "https://localhost:8080/"
        },
        "id": "0fyRRZEA9dR8",
        "outputId": "b5ce2aa8-7776-4551-dec3-86e60315f983"
      },
      "execution_count": 4,
      "outputs": [
        {
          "output_type": "stream",
          "name": "stdout",
          "text": [
            "Mean:\n",
            " PassengerId    1100.500000\n",
            "Survived          0.363636\n",
            "dtype: float64\n",
            "\n",
            "Median:\n",
            " PassengerId    1100.5\n",
            "Survived          0.0\n",
            "dtype: float64\n",
            "\n",
            "Mode:\n",
            " PassengerId    892.0\n",
            "Survived         0.0\n",
            "Name: 0, dtype: float64\n",
            "\n",
            "Standard Deviation:\n",
            " PassengerId    120.810458\n",
            "Survived         0.481622\n",
            "dtype: float64\n"
          ]
        }
      ]
    },
    {
      "cell_type": "code",
      "source": [],
      "metadata": {
        "id": "5QQVVMCT9z6T"
      },
      "execution_count": null,
      "outputs": []
    }
  ]
}